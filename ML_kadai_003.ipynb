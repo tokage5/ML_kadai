{
  "nbformat": 4,
  "nbformat_minor": 0,
  "metadata": {
    "colab": {
      "provenance": []
    },
    "kernelspec": {
      "name": "python3",
      "display_name": "Python 3"
    },
    "language_info": {
      "name": "python"
    }
  },
  "cells": [
    {
      "cell_type": "code",
      "execution_count": 12,
      "metadata": {
        "id": "fb58K95EcRSC",
        "colab": {
          "base_uri": "https://localhost:8080/"
        },
        "outputId": "4a632b74-3e7e-4d9e-85bb-d3c031c30d91"
      },
      "outputs": [
        {
          "output_type": "stream",
          "name": "stdout",
          "text": [
            "[[ 4  5  6  7]\n",
            " [12 17 22 27]\n",
            " [20 29 38 47]]\n"
          ]
        },
        {
          "output_type": "execute_result",
          "data": {
            "text/plain": [
              "47"
            ]
          },
          "metadata": {},
          "execution_count": 12
        }
      ],
      "source": [
        "\n",
        "\n",
        "#Step1.\n",
        "#NumPyをインポートするコードを記述する\n",
        "import numpy as np\n",
        "\n",
        "\n",
        "#Step2.\n",
        "#AとBの行列を格納する多次元配列のコードを記述する\n",
        "a = np.array([[0,1], [2,3], [4,5]])\n",
        "b= np.array([[0,1,2,3], [4,5,6,7]])\n",
        "\n",
        "#Step3.\n",
        "#行列の積の計算をするコードを記述する\n",
        "result = np.dot(a,b)\n",
        "#Step4.\n",
        "#Step3.の計算結果を表示するコードを記述する\n",
        "print(result)\n",
        "#Step5.\n",
        "#行列の要素の最大値を求めるコードを記述する\n",
        "result.max()"
      ]
    }
  ]
}